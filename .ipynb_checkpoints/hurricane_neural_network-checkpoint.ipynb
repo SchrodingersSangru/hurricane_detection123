{
 "cells": [
  {
   "cell_type": "markdown",
   "metadata": {},
   "source": [
    "# SparkDev AI Hurricane Trajectory Prediction\n",
    "\n",
    "In this project, we'll be using neural networks to predict the trajectory paths of hurricanes in South Florida. We will be using the Hurricane Database dataset from Unisys Weather. Here we will preprocess the data, then train a recurrent neural network on some of the samples. At the end, we'll get to see our neural network's hurricane trajectory path predictions.\n",
    "\n",
    "## Get the Data\n",
    "\n",
    "[Here's the link containing the entire dataset.](http://weather.unisys.com/hurricane/atlantic/) So far, we're using only the years 2000 to 2009 and is saved on our repo as '2000-2009-data.csv'."
   ]
  },
  {
   "cell_type": "code",
   "execution_count": 18,
   "metadata": {},
   "outputs": [
    {
     "data": {
      "text/html": [
       "<div>\n",
       "<style>\n",
       "    .dataframe thead tr:only-child th {\n",
       "        text-align: right;\n",
       "    }\n",
       "\n",
       "    .dataframe thead th {\n",
       "        text-align: left;\n",
       "    }\n",
       "\n",
       "    .dataframe tbody tr th {\n",
       "        vertical-align: top;\n",
       "    }\n",
       "</style>\n",
       "<table border=\"1\" class=\"dataframe\">\n",
       "  <thead>\n",
       "    <tr style=\"text-align: right;\">\n",
       "      <th></th>\n",
       "      <th>Year</th>\n",
       "      <th>Month</th>\n",
       "      <th>Day</th>\n",
       "      <th>Hour</th>\n",
       "      <th>HurricaneNum</th>\n",
       "      <th>Name</th>\n",
       "      <th>Lat</th>\n",
       "      <th>Long</th>\n",
       "      <th>WindSpeed</th>\n",
       "      <th>Pressure</th>\n",
       "    </tr>\n",
       "  </thead>\n",
       "  <tbody>\n",
       "    <tr>\n",
       "      <th>0</th>\n",
       "      <td>2000</td>\n",
       "      <td>6</td>\n",
       "      <td>7</td>\n",
       "      <td>18</td>\n",
       "      <td>1</td>\n",
       "      <td>NOTNAMED</td>\n",
       "      <td>21.0</td>\n",
       "      <td>-93.0</td>\n",
       "      <td>25</td>\n",
       "      <td>0</td>\n",
       "    </tr>\n",
       "    <tr>\n",
       "      <th>1</th>\n",
       "      <td>2000</td>\n",
       "      <td>6</td>\n",
       "      <td>8</td>\n",
       "      <td>0</td>\n",
       "      <td>1</td>\n",
       "      <td>NOTNAMED</td>\n",
       "      <td>20.9</td>\n",
       "      <td>-92.8</td>\n",
       "      <td>25</td>\n",
       "      <td>0</td>\n",
       "    </tr>\n",
       "    <tr>\n",
       "      <th>2</th>\n",
       "      <td>2000</td>\n",
       "      <td>6</td>\n",
       "      <td>8</td>\n",
       "      <td>6</td>\n",
       "      <td>1</td>\n",
       "      <td>NOTNAMED</td>\n",
       "      <td>20.7</td>\n",
       "      <td>-93.1</td>\n",
       "      <td>25</td>\n",
       "      <td>0</td>\n",
       "    </tr>\n",
       "    <tr>\n",
       "      <th>3</th>\n",
       "      <td>2000</td>\n",
       "      <td>6</td>\n",
       "      <td>8</td>\n",
       "      <td>12</td>\n",
       "      <td>1</td>\n",
       "      <td>NOTNAMED</td>\n",
       "      <td>20.8</td>\n",
       "      <td>-93.5</td>\n",
       "      <td>25</td>\n",
       "      <td>0</td>\n",
       "    </tr>\n",
       "    <tr>\n",
       "      <th>4</th>\n",
       "      <td>2000</td>\n",
       "      <td>6</td>\n",
       "      <td>23</td>\n",
       "      <td>0</td>\n",
       "      <td>2</td>\n",
       "      <td>NOTNAMED</td>\n",
       "      <td>9.5</td>\n",
       "      <td>-19.8</td>\n",
       "      <td>25</td>\n",
       "      <td>0</td>\n",
       "    </tr>\n",
       "  </tbody>\n",
       "</table>\n",
       "</div>"
      ],
      "text/plain": [
       "   Year  Month  Day  Hour  HurricaneNum      Name   Lat  Long  WindSpeed  \\\n",
       "0  2000      6    7    18             1  NOTNAMED  21.0 -93.0         25   \n",
       "1  2000      6    8     0             1  NOTNAMED  20.9 -92.8         25   \n",
       "2  2000      6    8     6             1  NOTNAMED  20.7 -93.1         25   \n",
       "3  2000      6    8    12             1  NOTNAMED  20.8 -93.5         25   \n",
       "4  2000      6   23     0             2  NOTNAMED   9.5 -19.8         25   \n",
       "\n",
       "   Pressure  \n",
       "0         0  \n",
       "1         0  \n",
       "2         0  \n",
       "3         0  \n",
       "4         0  "
      ]
     },
     "execution_count": 18,
     "metadata": {},
     "output_type": "execute_result"
    }
   ],
   "source": [
    "import pandas as pd\n",
    "\n",
    "data = pd.read_csv('2000-2009-data.csv', names=[\"Year\", \"Month\", \"Day\", \"Hour\", \"HurricaneNum\", \"Name\", \"Lat\", \"Long\", \"WindSpeed\", \"Pressure\"])\n",
    "data.head() #Preview first 5 rows of data"
   ]
  },
  {
   "cell_type": "code",
   "execution_count": 19,
   "metadata": {},
   "outputs": [
    {
     "data": {
      "text/plain": [
       "<matplotlib.axes._subplots.AxesSubplot at 0x61f50bc50>"
      ]
     },
     "execution_count": 19,
     "metadata": {},
     "output_type": "execute_result"
    },
    {
     "data": {
      "image/png": "[encoded data removed]",
      "text/plain": [
       "<matplotlib.figure.Figure at 0x61f9656d8>"
      ]
     },
     "metadata": {
      "image/png": {
       "height": 263,
       "width": 379
      }
     },
     "output_type": "display_data"
    }
   ],
   "source": [
    "%matplotlib inline\n",
    "%config InlineBackend.figure_format = 'retina'\n",
    "\n",
    "import matplotlib.pyplot as plt\n",
    "\n",
    "data[16:102].plot(x='Lat', y='Long') # Trajectory path of hurricane Alberto"
   ]
  },
  {
   "cell_type": "markdown",
   "metadata": {
    "collapsed": true
   },
   "source": [
    "## Data Preprocessing \n",
    "\n",
    "In this section, we will modify the data to create \"uniform and comparable\" points for each of the hurricanes. This technique is called Dynamic Time-Warping (DTW). \n",
    "\n",
    "### Why are we doing this? \n",
    "\n",
    "From our dataset, we have hurricanes recorded as a set of ordered sequences of points. In order to properly analyze this trajectory data, we have to be able to compare the similarity between these trajectories and this cannot occur with how the data is currently collected. For example, let's say we have 2 hurricanes, hurricane A and B. Hurricane A only lasted for 2 days, while hurricane B lasted for 10 days. In order to identify similar portions between these trajectories, they must be the same length in terms of time. So, we must use this DTW technique to transform hurricane A into a hurricane that lasted 10 days. Now our neural network can receive all hurricane inputs as \"equals\" and can properly learn the behaviors of hurricane trajectories. \n",
    "\n",
    "### References \n",
    "- [Approximating Dynamic Time Warping and Edit Distance for a Pair of Point Sequences](https://users.cs.duke.edu/~jwpan/papers/socg16.pdf)\n",
    "- [FastDTW: Toward Accurate Dynamic Time Warping in Linear Time and Space](http://cs.fit.edu/~pkc/papers/tdm04.pdf)"
   ]
  },
  {
   "cell_type": "code",
   "execution_count": 17,
   "metadata": {},
   "outputs": [
    {
     "name": "stdout",
     "output_type": "stream",
     "text": [
      "2188.245028851854\n"
     ]
    }
   ],
   "source": [
    "import numpy as np\n",
    "from scipy.spatial.distance import euclidean\n",
    "from fastdtw import fastdtw\n",
    "\n",
    "hurricaneA = data.loc[4:15,\"Lat\":\"Long\"]\n",
    "hurricaneB = data.loc[16:102,\"Lat\":\"Long\"]\n",
    "\n",
    "a = np.array(hurricaneA)\n",
    "b = np.array(hurricaneB)\n",
    "\n",
    "distance, path = fastdtw(a, b, dist=euclidean)\n",
    "print(distance)"
   ]
  },
  {
   "cell_type": "markdown",
   "metadata": {},
   "source": [
    "## Train the Network"
   ]
  },
  {
   "cell_type": "code",
   "execution_count": 3,
   "metadata": {
    "collapsed": true
   },
   "outputs": [],
   "source": [
    "import tensorflow as tf"
   ]
  },
  {
   "cell_type": "code",
   "execution_count": 1,
   "metadata": {},
   "outputs": [
    {
     "name": "stdout",
     "output_type": "stream",
     "text": [
      "hello hurricane\n"
     ]
    }
   ],
   "source": [
    "print('hello hurricane')"
   ]
  },
  {
   "cell_type": "code",
   "execution_count": null,
   "metadata": {
    "collapsed": true
   },
   "outputs": [],
   "source": []
  }
 ],
 "metadata": {
  "kernelspec": {
   "display_name": "Python 3",
   "language": "python",
   "name": "python3"
  },
  "language_info": {
   "codemirror_mode": {
    "name": "ipython",
    "version": 2
   },
   "file_extension": ".py",
   "mimetype": "text/x-python",
   "name": "python",
   "nbconvert_exporter": "python",
   "pygments_lexer": "ipython2",
   "version": "2.7.12"
  }
 },
 "nbformat": 4,
 "nbformat_minor": 2
}
