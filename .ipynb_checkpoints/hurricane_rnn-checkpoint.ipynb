{
 "cells": [
  {
   "cell_type": "markdown",
   "metadata": {},
   "source": [
    "# SparkDev AI Hurricane Trajectory Prediction\n",
    "\n",
    "In this project, we'll be using neural networks to predict the trajectory paths of hurricanes in South Florida. We will be using the Hurricane Database dataset from Unisys Weather. Here we will preprocess the data, then train a recurrent neural network on some of the samples. At the end, we'll get to see our neural network's hurricane trajectory path predictions.\n",
    "\n",
    "## Get the Data\n",
    "\n",
    "[Here's the link containing the entire dataset.](http://weather.unisys.com/hurricane/atlantic/) So far, we're using only the years 2000 to 2009 and is saved on our repo as '2000-2009-data.csv'."
   ]
  },
  {
   "cell_type": "code",
   "execution_count": 46,
   "metadata": {},
   "outputs": [
    {
     "data": {
      "text/html": [
       "<div>\n",
       "<style>\n",
       "    .dataframe thead tr:only-child th {\n",
       "        text-align: right;\n",
       "    }\n",
       "\n",
       "    .dataframe thead th {\n",
       "        text-align: left;\n",
       "    }\n",
       "\n",
       "    .dataframe tbody tr th {\n",
       "        vertical-align: top;\n",
       "    }\n",
       "</style>\n",
       "<table border=\"1\" class=\"dataframe\">\n",
       "  <thead>\n",
       "    <tr style=\"text-align: right;\">\n",
       "      <th></th>\n",
       "      <th>Month</th>\n",
       "      <th>Day</th>\n",
       "      <th>Hour</th>\n",
       "      <th>Lat</th>\n",
       "      <th>Long</th>\n",
       "      <th>unique-key</th>\n",
       "    </tr>\n",
       "  </thead>\n",
       "  <tbody>\n",
       "    <tr>\n",
       "      <th>0</th>\n",
       "      <td>6</td>\n",
       "      <td>7</td>\n",
       "      <td>18</td>\n",
       "      <td>21.0</td>\n",
       "      <td>-93.0</td>\n",
       "      <td>NOTNAMED-2000-1</td>\n",
       "    </tr>\n",
       "    <tr>\n",
       "      <th>1</th>\n",
       "      <td>6</td>\n",
       "      <td>8</td>\n",
       "      <td>0</td>\n",
       "      <td>20.9</td>\n",
       "      <td>-92.8</td>\n",
       "      <td>NOTNAMED-2000-1</td>\n",
       "    </tr>\n",
       "    <tr>\n",
       "      <th>2</th>\n",
       "      <td>6</td>\n",
       "      <td>8</td>\n",
       "      <td>6</td>\n",
       "      <td>20.7</td>\n",
       "      <td>-93.1</td>\n",
       "      <td>NOTNAMED-2000-1</td>\n",
       "    </tr>\n",
       "    <tr>\n",
       "      <th>3</th>\n",
       "      <td>6</td>\n",
       "      <td>8</td>\n",
       "      <td>12</td>\n",
       "      <td>20.8</td>\n",
       "      <td>-93.5</td>\n",
       "      <td>NOTNAMED-2000-1</td>\n",
       "    </tr>\n",
       "    <tr>\n",
       "      <th>4</th>\n",
       "      <td>6</td>\n",
       "      <td>23</td>\n",
       "      <td>0</td>\n",
       "      <td>9.5</td>\n",
       "      <td>-19.8</td>\n",
       "      <td>NOTNAMED-2000-2</td>\n",
       "    </tr>\n",
       "  </tbody>\n",
       "</table>\n",
       "</div>"
      ],
      "text/plain": [
       "   Month  Day  Hour   Lat  Long       unique-key\n",
       "0      6    7    18  21.0 -93.0  NOTNAMED-2000-1\n",
       "1      6    8     0  20.9 -92.8  NOTNAMED-2000-1\n",
       "2      6    8     6  20.7 -93.1  NOTNAMED-2000-1\n",
       "3      6    8    12  20.8 -93.5  NOTNAMED-2000-1\n",
       "4      6   23     0   9.5 -19.8  NOTNAMED-2000-2"
      ]
     },
     "execution_count": 46,
     "metadata": {},
     "output_type": "execute_result"
    }
   ],
   "source": [
    "import pandas as pd\n",
    "import numpy as np\n",
    "\n",
    "data = pd.read_csv('2000-2009-data.csv', names=['Year', 'Month', 'Day', 'Hour', 'HurricaneNum', 'Name', 'Lat', 'Long', 'WindSpeed', 'Pressure'])\n",
    "\n",
    "#t = pd.DataFrame(data[data['HurricaneNum'] == 12], columns = data.keys()).reset_index(drop = True)\n",
    "#print (data[data['Name'] == 'NOTNAMED'])\n",
    "\n",
    "data['unique-key'] = data['Name'] + '-' + data['Year'].map(str) + '-' + data['HurricaneNum'].map(str)\n",
    "\n",
    "data.drop(['WindSpeed', 'Pressure', 'Name', 'HurricaneNum', 'Year'], axis = 1, inplace = True)\n",
    "data.head() #Preview first 5 rows of data"
   ]
  },
  {
   "cell_type": "code",
   "execution_count": 105,
   "metadata": {},
   "outputs": [
    {
     "data": {
      "text/html": [
       "<div>\n",
       "<style>\n",
       "    .dataframe thead tr:only-child th {\n",
       "        text-align: right;\n",
       "    }\n",
       "\n",
       "    .dataframe thead th {\n",
       "        text-align: left;\n",
       "    }\n",
       "\n",
       "    .dataframe tbody tr th {\n",
       "        vertical-align: top;\n",
       "    }\n",
       "</style>\n",
       "<table border=\"1\" class=\"dataframe\">\n",
       "  <thead>\n",
       "    <tr style=\"text-align: right;\">\n",
       "      <th></th>\n",
       "      <th>Month</th>\n",
       "      <th>Day</th>\n",
       "      <th>Hour</th>\n",
       "      <th>Lat</th>\n",
       "      <th>Long</th>\n",
       "    </tr>\n",
       "  </thead>\n",
       "  <tbody>\n",
       "    <tr>\n",
       "      <th>count</th>\n",
       "      <td>5066.000000</td>\n",
       "      <td>5066.000000</td>\n",
       "      <td>5066.000000</td>\n",
       "      <td>5066.000000</td>\n",
       "      <td>5066.000000</td>\n",
       "    </tr>\n",
       "    <tr>\n",
       "      <th>mean</th>\n",
       "      <td>8.717529</td>\n",
       "      <td>15.111725</td>\n",
       "      <td>9.091394</td>\n",
       "      <td>27.293901</td>\n",
       "      <td>-62.964272</td>\n",
       "    </tr>\n",
       "    <tr>\n",
       "      <th>std</th>\n",
       "      <td>1.477758</td>\n",
       "      <td>8.744083</td>\n",
       "      <td>6.721078</td>\n",
       "      <td>10.783749</td>\n",
       "      <td>20.467823</td>\n",
       "    </tr>\n",
       "    <tr>\n",
       "      <th>min</th>\n",
       "      <td>1.000000</td>\n",
       "      <td>1.000000</td>\n",
       "      <td>0.000000</td>\n",
       "      <td>8.900000</td>\n",
       "      <td>-107.700000</td>\n",
       "    </tr>\n",
       "    <tr>\n",
       "      <th>25%</th>\n",
       "      <td>8.000000</td>\n",
       "      <td>8.000000</td>\n",
       "      <td>6.000000</td>\n",
       "      <td>18.600000</td>\n",
       "      <td>-79.600000</td>\n",
       "    </tr>\n",
       "    <tr>\n",
       "      <th>50%</th>\n",
       "      <td>9.000000</td>\n",
       "      <td>15.000000</td>\n",
       "      <td>12.000000</td>\n",
       "      <td>26.900000</td>\n",
       "      <td>-64.700000</td>\n",
       "    </tr>\n",
       "    <tr>\n",
       "      <th>75%</th>\n",
       "      <td>9.000000</td>\n",
       "      <td>23.000000</td>\n",
       "      <td>18.000000</td>\n",
       "      <td>33.300000</td>\n",
       "      <td>-47.600000</td>\n",
       "    </tr>\n",
       "    <tr>\n",
       "      <th>max</th>\n",
       "      <td>12.000000</td>\n",
       "      <td>31.000000</td>\n",
       "      <td>23.000000</td>\n",
       "      <td>70.700000</td>\n",
       "      <td>13.500000</td>\n",
       "    </tr>\n",
       "  </tbody>\n",
       "</table>\n",
       "</div>"
      ],
      "text/plain": [
       "             Month          Day         Hour          Lat         Long\n",
       "count  5066.000000  5066.000000  5066.000000  5066.000000  5066.000000\n",
       "mean      8.717529    15.111725     9.091394    27.293901   -62.964272\n",
       "std       1.477758     8.744083     6.721078    10.783749    20.467823\n",
       "min       1.000000     1.000000     0.000000     8.900000  -107.700000\n",
       "25%       8.000000     8.000000     6.000000    18.600000   -79.600000\n",
       "50%       9.000000    15.000000    12.000000    26.900000   -64.700000\n",
       "75%       9.000000    23.000000    18.000000    33.300000   -47.600000\n",
       "max      12.000000    31.000000    23.000000    70.700000    13.500000"
      ]
     },
     "execution_count": 105,
     "metadata": {},
     "output_type": "execute_result"
    },
    {
     "data": {
      "image/png": "[encoded data removed]",
      "text/plain": [
       "<matplotlib.figure.Figure at 0x11e9d57f0>"
      ]
     },
     "metadata": {
      "image/png": {
       "height": 263,
       "width": 379
      }
     },
     "output_type": "display_data"
    }
   ],
   "source": [
    "%matplotlib inline\n",
    "%config InlineBackend.figure_format = 'retina'\n",
    "\n",
    "import matplotlib.pyplot as plt\n",
    "\n",
    "data[16:102].plot(x='Lat', y='Long') # Trajectory path of hurricane Alberto\n",
    "\n",
    "\n",
    "data.describe()"
   ]
  },
  {
   "cell_type": "code",
   "execution_count": 106,
   "metadata": {},
   "outputs": [
    {
     "name": "stdout",
     "output_type": "stream",
     "text": [
      "174\n",
      "                0\n",
      "count  174.000000\n",
      "mean    29.114943\n",
      "std     19.370692\n",
      "min      4.000000\n",
      "25%     13.000000\n",
      "50%     26.000000\n",
      "75%     42.000000\n",
      "max     94.000000\n",
      "\n",
      "\n",
      "Top -k Hurricanes (in terms of data)\n",
      "IVAN-2004-9 94.0\n",
      "KYLE-2002-12 90.0\n",
      "ALBERTO-2000-3 87.0\n",
      "NICHOLAS-2003-19 80.0\n",
      "FRANCES-2004-6 74.0\n",
      "BERTHA-2008-2 74.0\n",
      "JEANNE-2004-11 69.0\n",
      "OPHELIA-2005-16 69.0\n",
      "ERIN-2001-6 62.0\n",
      "FLORENCE-2006-7 62.0\n",
      "HELENE-2006-9 62.0\n",
      "IKE-2008-9 62.0\n"
     ]
    },
    {
     "data": {
      "image/png": "[encoded data removed]",
      "text/plain": [
       "<matplotlib.figure.Figure at 0x11e162978>"
      ]
     },
     "metadata": {
      "image/png": {
       "height": 250,
       "width": 384
      }
     },
     "output_type": "display_data"
    }
   ],
   "source": [
    "%matplotlib inline\n",
    "%config InlineBackend.figure_format = 'retina'\n",
    "\n",
    "import matplotlib.pyplot as plt\n",
    "\n",
    "print(len(pd.unique(data['unique-key'])))\n",
    "keys = list(enumerate(pd.unique(data['unique-key'])))\n",
    "\n",
    "y = np.zeros((174))\n",
    "for x in range(0,174):\n",
    "    y[x] = len(pd.DataFrame(data[data['unique-key'] == keys[x][1]], columns = data.keys()).reset_index(drop = True))\n",
    "\n",
    "hurricane_amount = pd.DataFrame(y)\n",
    "\n",
    "print (hurricane_amount.describe())\n",
    "print (\"\\n\")\n",
    "print ('Top -k Hurricanes (in terms of data)')\n",
    "for x in hurricane_amount.nlargest(12, 0).index:\n",
    "    print (keys[x][1], hurricane_amount.loc[x][0])\n",
    "    \n",
    "# y = y.cumsum()\n",
    "hurricane_amount.plot.hist(bins=20)\n",
    "plt.show()"
   ]
  },
  {
   "cell_type": "code",
   "execution_count": 109,
   "metadata": {},
   "outputs": [
    {
     "name": "stdout",
     "output_type": "stream",
     "text": [
      "                 0\n",
      "count   174.000000\n",
      "mean   2282.086542\n",
      "std    1755.959116\n",
      "min      65.208692\n",
      "25%     846.958809\n",
      "50%    1966.235839\n",
      "75%    3301.331522\n",
      "max    8402.883735\n",
      "\n",
      "\n",
      "Top -k Hurricanes (in terms of distance)\n",
      "ALBERTO-2000-3 8402.88373484 87.0\n",
      "IVAN-2004-9 7759.7484688 94.0\n",
      "KATE-2003-16 6394.65717702 58.0\n",
      "BILL-2009-3 6238.1751903 46.0\n",
      "FLORENCE-2006-7 6217.95160952 62.0\n",
      "BERTHA-2008-2 6186.43908039 74.0\n",
      "ISAAC-2000-13 6158.66324694 52.0\n",
      "HELENE-2006-9 6096.87321478 62.0\n",
      "GORDON-2006-8 6038.88025826 57.0\n",
      "KARL-2004-12 5860.50238137 48.0\n",
      "IKE-2008-9 5838.59997558 62.0\n",
      "FABIAN-2003-10 5679.58666593 53.0\n"
     ]
    },
    {
     "data": {
      "image/png": "[encoded data removed]",
      "text/plain": [
       "<matplotlib.figure.Figure at 0x11e9d5978>"
      ]
     },
     "metadata": {
      "image/png": {
       "height": 250,
       "width": 370
      }
     },
     "output_type": "display_data"
    }
   ],
   "source": [
    "from geopy.distance import great_circle as vc\n",
    "\n",
    "y = np.zeros((174))\n",
    "for x in range(0,174):\n",
    "    t = pd.DataFrame(data[data['unique-key'] == keys[x][1]], columns = data.keys()).reset_index(drop = True)\n",
    "    dst = 0\n",
    "    prev = (0,0)\n",
    "    \n",
    "    for p in zip(t['Lat'], t['Long']):\n",
    "        if prev == (0,0):\n",
    "            prev = p\n",
    "            continue\n",
    "        dst += vc(prev,p).miles\n",
    "        prev = p\n",
    "    y[x] = dst\n",
    "hurricane_distance = pd.DataFrame(y)\n",
    "\n",
    "print(hurricane_distance.describe())\n",
    "print (\"\\n\")\n",
    "print ('Top -k Hurricanes (in terms of distance)')\n",
    "for x in hurricane_distance.nlargest(12, 0).index:\n",
    "    print (keys[x][1], hurricane_distance.loc[x][0], hurricane_amount.loc[x][0])\n",
    "\n",
    "lol = plt.scatter(hurricane_distance[0], hurricane_amount[0])\n",
    "plt.show()"
   ]
  },
  {
   "cell_type": "code",
   "execution_count": 125,
   "metadata": {},
   "outputs": [
    {
     "ename": "ValueError",
     "evalue": "Expected 2D array, got 1D array instead:\narray=[   65.20869205  1260.37951628  8402.88373484   513.19399171   441.89236987\n   633.41165508  2247.22418085   924.18184741   177.15431444  2011.32403774\n  2370.86235041  5165.52945678  6158.66324694  2432.57365398  1357.79569429\n  4117.47249057  2035.60156387  1175.18733242  2006.12520897  2853.30953059\n   459.55328375  1086.3004314   3760.57590123  3171.10572958  5519.98005715\n  3299.0636714   3818.79733425   228.02171551  2105.1959183   2307.70941319\n  1086.90759922  1602.71857703  1309.95793477  1898.85105257   785.8672447\n  2635.81743504  2628.07114249   753.79545661   471.76449175  2084.62367876\n   676.8506321    690.90464135   241.50541168  3054.82529755   738.23575871\n  4013.22008498   837.38837007  4162.83199646  4116.11697654   457.37517565\n  3461.16522104   347.91628606  1592.43372741  3949.27806995  2894.98535828\n   942.97026876   313.19193158  1071.14420496   215.47407923  5679.58666593\n   847.29625562   937.76181357  4431.2324882    470.4076623   1559.63336805\n  6394.65717702  1124.23028942   795.8815278   4874.97399837  2284.17220812\n  1204.31366321  2842.92225702  4121.29766501  3304.0871817   2953.12458009\n  1188.79995005  5292.56787252  3098.93162675  1185.14618553  7759.7484688\n   767.829146    3661.05370573  5860.50238137  3805.92380258   815.66678418\n   741.10987956  1672.77573803  2245.29077854   260.54707431  2991.01251989\n  3778.1932499   4069.90525475  2624.60651821   606.70584223  2878.55962003\n  4343.89934736  1202.29761048   211.60359416  2106.09503915  2085.70439022\n  4691.09231     2790.60894896  5372.66173215  1642.42779719  2467.80816966\n   390.31525294   846.84632643   873.49200781   598.4221639   1784.57199446\n   902.60863374  3471.11483838  1047.47211353   497.3392879   1926.34646947\n  4044.00701322  2485.93729195   211.63600805  1304.51284531  5145.4150826\n  1440.18961935  1511.037028    1623.94491188  2405.25831084  3173.90041244\n  6217.95160952  6038.88025826  6096.87321478  2053.70451231  1580.08305536\n  2365.52005504  3332.68148175  4727.2259702   1355.89427774  2563.00197923\n  1001.29795188  1320.06204668   501.15405633   182.39385465   404.99415377\n  1383.42146146   418.22959781  2015.94173107  2232.40330835  4818.04702751\n  2162.88722968   261.04898423  6186.43908039  1499.91549602  1886.32604389\n   778.83634132  2704.97859267  3302.08747213  4144.23938393  5838.59997558\n  2200.59337726  2088.37618085  2969.99347431   358.90684959   913.21860746\n  2502.86179016   209.87908534  1718.83860294  1275.34229855  2069.58279924\n  6238.1751903    499.84650748   653.30411238   618.32642648  3454.82124742\n   489.75778877  3349.22984137  1564.18725025  1661.20844118].\nReshape your data either using array.reshape(-1, 1) if your data has a single feature or array.reshape(1, -1) if it contains a single sample.",
     "output_type": "error",
     "traceback": [
      "\u001b[0;31m---------------------------------------------------------------------------\u001b[0m",
      "\u001b[0;31mValueError\u001b[0m                                Traceback (most recent call last)",
      "\u001b[0;32m<ipython-input-125-38a204f00ebf>\u001b[0m in \u001b[0;36m<module>\u001b[0;34m()\u001b[0m\n\u001b[1;32m      3\u001b[0m \u001b[0;34m\u001b[0m\u001b[0m\n\u001b[1;32m      4\u001b[0m \u001b[0mlr\u001b[0m \u001b[0;34m=\u001b[0m \u001b[0mlinear_model\u001b[0m\u001b[0;34m.\u001b[0m\u001b[0mLinearRegression\u001b[0m\u001b[0;34m(\u001b[0m\u001b[0;34m)\u001b[0m\u001b[0;34m\u001b[0m\u001b[0m\n\u001b[0;32m----> 5\u001b[0;31m \u001b[0mlr\u001b[0m\u001b[0;34m.\u001b[0m\u001b[0mfit\u001b[0m\u001b[0;34m(\u001b[0m\u001b[0mhurricane_distance\u001b[0m\u001b[0;34m.\u001b[0m\u001b[0mvalues\u001b[0m\u001b[0;34m.\u001b[0m\u001b[0mflatten\u001b[0m\u001b[0;34m(\u001b[0m\u001b[0;34m)\u001b[0m\u001b[0;34m,\u001b[0m \u001b[0mhurricane_amount\u001b[0m\u001b[0;34m.\u001b[0m\u001b[0mvalues\u001b[0m\u001b[0;34m.\u001b[0m\u001b[0mflatten\u001b[0m\u001b[0;34m(\u001b[0m\u001b[0;34m)\u001b[0m\u001b[0;34m)\u001b[0m\u001b[0;34m\u001b[0m\u001b[0m\n\u001b[0m\u001b[1;32m      6\u001b[0m \u001b[0;34m\u001b[0m\u001b[0m\n\u001b[1;32m      7\u001b[0m \u001b[0mpred\u001b[0m \u001b[0;34m=\u001b[0m \u001b[0mlr\u001b[0m\u001b[0;34m.\u001b[0m\u001b[0mpredict\u001b[0m\u001b[0;34m(\u001b[0m\u001b[0mhurricane_distance\u001b[0m\u001b[0;34m.\u001b[0m\u001b[0mvalues\u001b[0m\u001b[0;34m.\u001b[0m\u001b[0mflatten\u001b[0m\u001b[0;34m(\u001b[0m\u001b[0;34m)\u001b[0m\u001b[0;34m)\u001b[0m\u001b[0;34m\u001b[0m\u001b[0m\n",
      "\u001b[0;32m~/anaconda/envs/SparkDevAI/lib/python3.6/site-packages/sklearn/linear_model/base.py\u001b[0m in \u001b[0;36mfit\u001b[0;34m(self, X, y, sample_weight)\u001b[0m\n\u001b[1;32m    480\u001b[0m         \u001b[0mn_jobs_\u001b[0m \u001b[0;34m=\u001b[0m \u001b[0mself\u001b[0m\u001b[0;34m.\u001b[0m\u001b[0mn_jobs\u001b[0m\u001b[0;34m\u001b[0m\u001b[0m\n\u001b[1;32m    481\u001b[0m         X, y = check_X_y(X, y, accept_sparse=['csr', 'csc', 'coo'],\n\u001b[0;32m--> 482\u001b[0;31m                          y_numeric=True, multi_output=True)\n\u001b[0m\u001b[1;32m    483\u001b[0m \u001b[0;34m\u001b[0m\u001b[0m\n\u001b[1;32m    484\u001b[0m         \u001b[0;32mif\u001b[0m \u001b[0msample_weight\u001b[0m \u001b[0;32mis\u001b[0m \u001b[0;32mnot\u001b[0m \u001b[0;32mNone\u001b[0m \u001b[0;32mand\u001b[0m \u001b[0mnp\u001b[0m\u001b[0;34m.\u001b[0m\u001b[0matleast_1d\u001b[0m\u001b[0;34m(\u001b[0m\u001b[0msample_weight\u001b[0m\u001b[0;34m)\u001b[0m\u001b[0;34m.\u001b[0m\u001b[0mndim\u001b[0m \u001b[0;34m>\u001b[0m \u001b[0;36m1\u001b[0m\u001b[0;34m:\u001b[0m\u001b[0;34m\u001b[0m\u001b[0m\n",
      "\u001b[0;32m~/anaconda/envs/SparkDevAI/lib/python3.6/site-packages/sklearn/utils/validation.py\u001b[0m in \u001b[0;36mcheck_X_y\u001b[0;34m(X, y, accept_sparse, dtype, order, copy, force_all_finite, ensure_2d, allow_nd, multi_output, ensure_min_samples, ensure_min_features, y_numeric, warn_on_dtype, estimator)\u001b[0m\n\u001b[1;32m    571\u001b[0m     X = check_array(X, accept_sparse, dtype, order, copy, force_all_finite,\n\u001b[1;32m    572\u001b[0m                     \u001b[0mensure_2d\u001b[0m\u001b[0;34m,\u001b[0m \u001b[0mallow_nd\u001b[0m\u001b[0;34m,\u001b[0m \u001b[0mensure_min_samples\u001b[0m\u001b[0;34m,\u001b[0m\u001b[0;34m\u001b[0m\u001b[0m\n\u001b[0;32m--> 573\u001b[0;31m                     ensure_min_features, warn_on_dtype, estimator)\n\u001b[0m\u001b[1;32m    574\u001b[0m     \u001b[0;32mif\u001b[0m \u001b[0mmulti_output\u001b[0m\u001b[0;34m:\u001b[0m\u001b[0;34m\u001b[0m\u001b[0m\n\u001b[1;32m    575\u001b[0m         y = check_array(y, 'csr', force_all_finite=True, ensure_2d=False,\n",
      "\u001b[0;32m~/anaconda/envs/SparkDevAI/lib/python3.6/site-packages/sklearn/utils/validation.py\u001b[0m in \u001b[0;36mcheck_array\u001b[0;34m(array, accept_sparse, dtype, order, copy, force_all_finite, ensure_2d, allow_nd, ensure_min_samples, ensure_min_features, warn_on_dtype, estimator)\u001b[0m\n\u001b[1;32m    439\u001b[0m                     \u001b[0;34m\"Reshape your data either using array.reshape(-1, 1) if \"\u001b[0m\u001b[0;34m\u001b[0m\u001b[0m\n\u001b[1;32m    440\u001b[0m                     \u001b[0;34m\"your data has a single feature or array.reshape(1, -1) \"\u001b[0m\u001b[0;34m\u001b[0m\u001b[0m\n\u001b[0;32m--> 441\u001b[0;31m                     \"if it contains a single sample.\".format(array))\n\u001b[0m\u001b[1;32m    442\u001b[0m             \u001b[0marray\u001b[0m \u001b[0;34m=\u001b[0m \u001b[0mnp\u001b[0m\u001b[0;34m.\u001b[0m\u001b[0matleast_2d\u001b[0m\u001b[0;34m(\u001b[0m\u001b[0marray\u001b[0m\u001b[0;34m)\u001b[0m\u001b[0;34m\u001b[0m\u001b[0m\n\u001b[1;32m    443\u001b[0m             \u001b[0;31m# To ensure that array flags are maintained\u001b[0m\u001b[0;34m\u001b[0m\u001b[0;34m\u001b[0m\u001b[0m\n",
      "\u001b[0;31mValueError\u001b[0m: Expected 2D array, got 1D array instead:\narray=[   65.20869205  1260.37951628  8402.88373484   513.19399171   441.89236987\n   633.41165508  2247.22418085   924.18184741   177.15431444  2011.32403774\n  2370.86235041  5165.52945678  6158.66324694  2432.57365398  1357.79569429\n  4117.47249057  2035.60156387  1175.18733242  2006.12520897  2853.30953059\n   459.55328375  1086.3004314   3760.57590123  3171.10572958  5519.98005715\n  3299.0636714   3818.79733425   228.02171551  2105.1959183   2307.70941319\n  1086.90759922  1602.71857703  1309.95793477  1898.85105257   785.8672447\n  2635.81743504  2628.07114249   753.79545661   471.76449175  2084.62367876\n   676.8506321    690.90464135   241.50541168  3054.82529755   738.23575871\n  4013.22008498   837.38837007  4162.83199646  4116.11697654   457.37517565\n  3461.16522104   347.91628606  1592.43372741  3949.27806995  2894.98535828\n   942.97026876   313.19193158  1071.14420496   215.47407923  5679.58666593\n   847.29625562   937.76181357  4431.2324882    470.4076623   1559.63336805\n  6394.65717702  1124.23028942   795.8815278   4874.97399837  2284.17220812\n  1204.31366321  2842.92225702  4121.29766501  3304.0871817   2953.12458009\n  1188.79995005  5292.56787252  3098.93162675  1185.14618553  7759.7484688\n   767.829146    3661.05370573  5860.50238137  3805.92380258   815.66678418\n   741.10987956  1672.77573803  2245.29077854   260.54707431  2991.01251989\n  3778.1932499   4069.90525475  2624.60651821   606.70584223  2878.55962003\n  4343.89934736  1202.29761048   211.60359416  2106.09503915  2085.70439022\n  4691.09231     2790.60894896  5372.66173215  1642.42779719  2467.80816966\n   390.31525294   846.84632643   873.49200781   598.4221639   1784.57199446\n   902.60863374  3471.11483838  1047.47211353   497.3392879   1926.34646947\n  4044.00701322  2485.93729195   211.63600805  1304.51284531  5145.4150826\n  1440.18961935  1511.037028    1623.94491188  2405.25831084  3173.90041244\n  6217.95160952  6038.88025826  6096.87321478  2053.70451231  1580.08305536\n  2365.52005504  3332.68148175  4727.2259702   1355.89427774  2563.00197923\n  1001.29795188  1320.06204668   501.15405633   182.39385465   404.99415377\n  1383.42146146   418.22959781  2015.94173107  2232.40330835  4818.04702751\n  2162.88722968   261.04898423  6186.43908039  1499.91549602  1886.32604389\n   778.83634132  2704.97859267  3302.08747213  4144.23938393  5838.59997558\n  2200.59337726  2088.37618085  2969.99347431   358.90684959   913.21860746\n  2502.86179016   209.87908534  1718.83860294  1275.34229855  2069.58279924\n  6238.1751903    499.84650748   653.30411238   618.32642648  3454.82124742\n   489.75778877  3349.22984137  1564.18725025  1661.20844118].\nReshape your data either using array.reshape(-1, 1) if your data has a single feature or array.reshape(1, -1) if it contains a single sample."
     ]
    }
   ],
   "source": [
    "from sklearn import linear_model\n",
    "from sklearn.model_selection import cross_val_predict\n",
    "\n",
    "lr = linear_model.LinearRegression()\n",
    "lr.fit(hurricane_distance.values.flatten(), hurricane_amount.values.flatten())\n",
    "\n",
    "pred = lr.predict(hurricane_distance.values.flatten())\n",
    "plt.scatter(hurricane_distance[0], hurricane_amount[0])\n",
    "plt.plot(pred)\n",
    "plt.show()"
   ]
  },
  {
   "cell_type": "code",
   "execution_count": null,
   "metadata": {},
   "outputs": [],
   "source": []
  },
  {
   "cell_type": "markdown",
   "metadata": {},
   "source": [
    "## Preprocess the Data"
   ]
  },
  {
   "cell_type": "code",
   "execution_count": null,
   "metadata": {
    "collapsed": true
   },
   "outputs": [],
   "source": [
    "\n",
    "\n",
    "\n"
   ]
  },
  {
   "cell_type": "markdown",
   "metadata": {},
   "source": [
    "## Train the Network"
   ]
  },
  {
   "cell_type": "code",
   "execution_count": null,
   "metadata": {
    "collapsed": true
   },
   "outputs": [],
   "source": []
  },
  {
   "cell_type": "code",
   "execution_count": 9,
   "metadata": {
    "collapsed": true
   },
   "outputs": [],
   "source": []
  },
  {
   "cell_type": "code",
   "execution_count": 55,
   "metadata": {
    "collapsed": true
   },
   "outputs": [],
   "source": []
  },
  {
   "cell_type": "code",
   "execution_count": 56,
   "metadata": {
    "collapsed": true
   },
   "outputs": [],
   "source": []
  }
 ],
 "metadata": {
  "kernelspec": {
   "display_name": "Python SparkDevAI",
   "language": "python",
   "name": "sparkdevai"
  },
  "language_info": {
   "codemirror_mode": {
    "name": "ipython",
    "version": 3
   },
   "file_extension": ".py",
   "mimetype": "text/x-python",
   "name": "python",
   "nbconvert_exporter": "python",
   "pygments_lexer": "ipython3",
   "version": "3.6.3"
  }
 },
 "nbformat": 4,
 "nbformat_minor": 2
}
