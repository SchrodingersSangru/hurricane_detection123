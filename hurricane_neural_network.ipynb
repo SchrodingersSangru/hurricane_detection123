{
 "cells": [
  {
   "cell_type": "markdown",
   "metadata": {},
   "source": [
    "## Train the Network"
   ]
  },
  {
   "cell_type": "code",
   "execution_count": 81,
   "metadata": {},
   "outputs": [],
   "source": [
    "import pandas as pd\n",
    "import numpy as np\n",
    "\n",
    "def get_stock_data(stock_name, normalized=0):\n",
    "    url=\"http://www.google.com/finance/historical?q=\"+stock_name+\"&startdate=Jul+12%2C+2013&enddate=Jul+11%2C+2017&num=500&ei=rCtlWZGSFN3KsQHwrqWQCw&output=csv\"\n",
    "\n",
    "    #url=\"http://www.google.com/finance/historical?q=%s&ei=u-lHWfGPNNWIsgHHqIqICw&output=csv\" % stock_name \n",
    "    \n",
    "    col_names = ['Date','Open','High','Low','Close','Volume']\n",
    "    stocks = pd.read_csv(url, header=0, names=col_names) \n",
    "    df = pd.DataFrame(stocks)\n",
    "    df.drop(df.columns[[0,3,5]], axis=1, inplace=True) \n",
    "    return df"
   ]
  },
  {
   "cell_type": "code",
   "execution_count": 82,
   "metadata": {},
   "outputs": [],
   "source": [
    "stock_name = 'AAPL'\n",
    "df = get_stock_data(stock_name,0)\n",
    "df.tail()\n",
    "\n",
    "df['High'] = df['High'] / 1000\n",
    "df['Open'] = df['Open'] / 1000\n",
    "df['Close'] = df['Close'] / 1000"
   ]
  },
  {
   "cell_type": "code",
   "execution_count": 83,
   "metadata": {},
   "outputs": [
    {
     "data": {
      "text/html": [
       "<div>\n",
       "<style>\n",
       "    .dataframe thead tr:only-child th {\n",
       "        text-align: right;\n",
       "    }\n",
       "\n",
       "    .dataframe thead th {\n",
       "        text-align: left;\n",
       "    }\n",
       "\n",
       "    .dataframe tbody tr th {\n",
       "        vertical-align: top;\n",
       "    }\n",
       "</style>\n",
       "<table border=\"1\" class=\"dataframe\">\n",
       "  <thead>\n",
       "    <tr style=\"text-align: right;\">\n",
       "      <th></th>\n",
       "      <th>Open</th>\n",
       "      <th>High</th>\n",
       "      <th>Close</th>\n",
       "    </tr>\n",
       "  </thead>\n",
       "  <tbody>\n",
       "    <tr>\n",
       "      <th>count</th>\n",
       "      <td>251.000000</td>\n",
       "      <td>251.000000</td>\n",
       "      <td>251.000000</td>\n",
       "    </tr>\n",
       "    <tr>\n",
       "      <th>mean</th>\n",
       "      <td>0.142628</td>\n",
       "      <td>0.143588</td>\n",
       "      <td>0.142778</td>\n",
       "    </tr>\n",
       "    <tr>\n",
       "      <th>std</th>\n",
       "      <td>0.016898</td>\n",
       "      <td>0.016939</td>\n",
       "      <td>0.016761</td>\n",
       "    </tr>\n",
       "    <tr>\n",
       "      <th>min</th>\n",
       "      <td>0.106570</td>\n",
       "      <td>0.107680</td>\n",
       "      <td>0.105710</td>\n",
       "    </tr>\n",
       "    <tr>\n",
       "      <th>25%</th>\n",
       "      <td>0.134285</td>\n",
       "      <td>0.135460</td>\n",
       "      <td>0.135180</td>\n",
       "    </tr>\n",
       "    <tr>\n",
       "      <th>50%</th>\n",
       "      <td>0.144880</td>\n",
       "      <td>0.146090</td>\n",
       "      <td>0.145160</td>\n",
       "    </tr>\n",
       "    <tr>\n",
       "      <th>75%</th>\n",
       "      <td>0.155525</td>\n",
       "      <td>0.156020</td>\n",
       "      <td>0.155420</td>\n",
       "    </tr>\n",
       "    <tr>\n",
       "      <th>max</th>\n",
       "      <td>0.175110</td>\n",
       "      <td>0.176240</td>\n",
       "      <td>0.176240</td>\n",
       "    </tr>\n",
       "  </tbody>\n",
       "</table>\n",
       "</div>"
      ],
      "text/plain": [
       "             Open        High       Close\n",
       "count  251.000000  251.000000  251.000000\n",
       "mean     0.142628    0.143588    0.142778\n",
       "std      0.016898    0.016939    0.016761\n",
       "min      0.106570    0.107680    0.105710\n",
       "25%      0.134285    0.135460    0.135180\n",
       "50%      0.144880    0.146090    0.145160\n",
       "75%      0.155525    0.156020    0.155420\n",
       "max      0.175110    0.176240    0.176240"
      ]
     },
     "execution_count": 83,
     "metadata": {},
     "output_type": "execute_result"
    }
   ],
   "source": [
    "df.describe()"
   ]
  },
  {
   "cell_type": "code",
   "execution_count": 73,
   "metadata": {
    "collapsed": true
   },
   "outputs": [],
   "source": [
    "def load_data(stock, seq_len):\n",
    "    amount_of_features = len(stock.columns)\n",
    "    data = stock.as_matrix() #pd.DataFrame(stock)\n",
    "    sequence_length = seq_len + 1\n",
    "    result = []\n",
    "    for index in range(len(data) - sequence_length):\n",
    "        result.append(data[index: index + sequence_length])\n",
    "\n",
    "    result = np.array(result)\n",
    "    row = round(0.9 * result.shape[0])\n",
    "    train = result[:int(row), :]\n",
    "    x_train = train[:, :-1]\n",
    "    y_train = train[:, -1][:,-1]\n",
    "    x_test = result[int(row):, :-1]\n",
    "    y_test = result[int(row):, -1][:,-1]\n",
    "\n",
    "    x_train = np.reshape(x_train, (x_train.shape[0], x_train.shape[1], amount_of_features))\n",
    "    x_test = np.reshape(x_test, (x_test.shape[0], x_test.shape[1], amount_of_features))  \n",
    "\n",
    "    return [x_train, y_train, x_test, y_test]"
   ]
  },
  {
   "cell_type": "code",
   "execution_count": 74,
   "metadata": {},
   "outputs": [],
   "source": [
    "from keras.models import Sequential\n",
    "from keras.layers.core import Dense, Dropout, Activation\n",
    "from keras.layers.recurrent import LSTM\n",
    "\n",
    "def build_model(layers):\n",
    "    model = Sequential()\n",
    "\n",
    "    model.add(LSTM(\n",
    "        input_dim=layers[0],\n",
    "        output_dim=layers[1],\n",
    "        return_sequences=True))\n",
    "    model.add(Dropout(0.6))\n",
    "\n",
    "    model.add(LSTM(\n",
    "        layers[2],\n",
    "        return_sequences=False))\n",
    "    model.add(Dropout(0.6))\n",
    "\n",
    "    model.add(Dense(\n",
    "        output_dim=layers[2]))\n",
    "    model.add(Activation(\"linear\"))\n",
    "\n",
    "    start = time.time()\n",
    "    model.compile(loss=\"mse\", optimizer=\"rmsprop\",metrics=['accuracy'])\n",
    "    print(\"Compilation Time : \", time.time() - start)\n",
    "    return model\n",
    "\n",
    "def build_model2(layers):\n",
    "        d = 1\n",
    "        model = Sequential()\n",
    "        model.add(LSTM(128, input_shape=(layers[1], layers[0]), return_sequences=True))\n",
    "        model.add(Dropout(d))\n",
    "        model.add(LSTM(64, input_shape=(layers[1], layers[0]), return_sequences=False))\n",
    "        model.add(Dropout(d))\n",
    "        model.add(Dense(16, activation=\"relu\", kernel_initializer=\"uniform\"))        \n",
    "        model.add(Dense(1, activation=\"relu\", kernel_initializer=\"uniform\"))\n",
    "        model.compile(loss='mse',optimizer='adam',metrics=['accuracy'])\n",
    "        return model"
   ]
  },
  {
   "cell_type": "code",
   "execution_count": 75,
   "metadata": {},
   "outputs": [
    {
     "name": "stdout",
     "output_type": "stream",
     "text": [
      "X_train (220, 5, 3)\n",
      "y_train (220,)\n",
      "X_test (25, 5, 3)\n",
      "y_test (25,)\n"
     ]
    }
   ],
   "source": [
    "window = 5\n",
    "X_train, y_train, X_test, y_test = load_data(df[::-1], window)\n",
    "print(\"X_train\", X_train.shape)\n",
    "print(\"y_train\", y_train.shape)\n",
    "print(\"X_test\", X_test.shape)\n",
    "print(\"y_test\", y_test.shape)"
   ]
  },
  {
   "cell_type": "code",
   "execution_count": 76,
   "metadata": {},
   "outputs": [
    {
     "name": "stderr",
     "output_type": "stream",
     "text": [
      "/Users/sheilaalemany/anaconda/envs/SparkDevAI/lib/python3.6/site-packages/ipykernel_launcher.py:11: UserWarning: The `input_dim` and `input_length` arguments in recurrent layers are deprecated. Use `input_shape` instead.\n",
      "  # This is added back by InteractiveShellApp.init_path()\n",
      "/Users/sheilaalemany/anaconda/envs/SparkDevAI/lib/python3.6/site-packages/ipykernel_launcher.py:11: UserWarning: Update your `LSTM` call to the Keras 2 API: `LSTM(return_sequences=True, input_shape=(None, 3), units=5)`\n",
      "  # This is added back by InteractiveShellApp.init_path()\n"
     ]
    },
    {
     "name": "stdout",
     "output_type": "stream",
     "text": [
      "Compilation Time :  0.027094125747680664\n"
     ]
    },
    {
     "name": "stderr",
     "output_type": "stream",
     "text": [
      "/Users/sheilaalemany/anaconda/envs/SparkDevAI/lib/python3.6/site-packages/ipykernel_launcher.py:20: UserWarning: Update your `Dense` call to the Keras 2 API: `Dense(units=1)`\n"
     ]
    }
   ],
   "source": [
    "model = build_model([3,window,1])"
   ]
  },
  {
   "cell_type": "code",
   "execution_count": 77,
   "metadata": {},
   "outputs": [
    {
     "data": {
      "text/plain": [
       "<keras.callbacks.History at 0x1a348a3eb8>"
      ]
     },
     "execution_count": 77,
     "metadata": {},
     "output_type": "execute_result"
    }
   ],
   "source": [
    "model.fit(\n",
    "    X_train,\n",
    "    y_train,\n",
    "    batch_size=512,\n",
    "    epochs=500,\n",
    "    validation_split=0.1,\n",
    "    verbose=0)"
   ]
  },
  {
   "cell_type": "code",
   "execution_count": 78,
   "metadata": {},
   "outputs": [
    {
     "name": "stdout",
     "output_type": "stream",
     "text": [
      "Train Score: 0.00 MSE (0.01 RMSE)\n",
      "Test Score: 0.00 MSE (0.02 RMSE)\n"
     ]
    }
   ],
   "source": [
    "import math, time\n",
    "\n",
    "trainScore = model.evaluate(X_train, y_train, verbose=0)\n",
    "print('Train Score: %.2f MSE (%.2f RMSE)' % (trainScore[0], math.sqrt(trainScore[0])))\n",
    "\n",
    "testScore = model.evaluate(X_test, y_test, verbose=0)\n",
    "print('Test Score: %.2f MSE (%.2f RMSE)' % (testScore[0], math.sqrt(testScore[0])))"
   ]
  },
  {
   "cell_type": "code",
   "execution_count": 79,
   "metadata": {
    "collapsed": true
   },
   "outputs": [],
   "source": [
    "diff=[]\n",
    "ratio=[]\n",
    "p = model.predict(X_test)\n",
    "for u in range(len(y_test)):\n",
    "    pr = p[u][0]\n",
    "    ratio.append((y_test[u]/pr)-1)\n",
    "    diff.append(abs(y_test[u]- pr))\n",
    "    #print(u, y_test[u], pr, (y_test[u]/pr)-1, abs(y_test[u]- pr))"
   ]
  },
  {
   "cell_type": "code",
   "execution_count": 80,
   "metadata": {},
   "outputs": [
    {
     "data": {
      "image/png": "iVBORw0KGgoAAAANSUhEUgAAAYQAAAD8CAYAAAB3u9PLAAAABHNCSVQICAgIfAhkiAAAAAlwSFlz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\nIRhjjAEsIRhjjPGxhGCMMQaA/w8RMO+K1FYJSAAAAABJRU5ErkJggg==\n",
      "text/plain": [
       "<matplotlib.figure.Figure at 0x1a36ffb128>"
      ]
     },
     "metadata": {},
     "output_type": "display_data"
    }
   ],
   "source": [
    "import matplotlib.pyplot as plt2\n",
    "\n",
    "plt2.plot(p,color='red', label='prediction')\n",
    "plt2.plot(y_test,color='blue', label='y_test')\n",
    "plt2.legend(loc='upper left')\n",
    "plt2.show()"
   "execution_count": 1,
   "metadata": {},
   "outputs": [
    {
     "name": "stdout",
     "output_type": "stream",
     "text": [
      "hello hurricane\n"
     ]
    }
   ],
   "source": [
    "print('hello hurricane')"
   ]
  },
  {
   "cell_type": "code",
   "execution_count": null,
   "metadata": {
    "collapsed": true
   },
   "outputs": [],
   "source": []
  }
 ],
 "metadata": {
  "kernelspec": {
   "display_name": "Python 3",
   "language": "python",
   "name": "python3"
  },
  "language_info": {
   "codemirror_mode": {
    "name": "ipython",
    "version": 2
   },
   "file_extension": ".py",
   "mimetype": "text/x-python",
   "name": "python",
   "nbconvert_exporter": "python",
   "pygments_lexer": "ipython2",
   "version": "2.7.12"
  }
 },
 "nbformat": 4,
 "nbformat_minor": 2
}
